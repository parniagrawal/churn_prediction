{
 "cells": [
  {
   "cell_type": "code",
   "execution_count": null,
   "id": "69adab53-bc95-421d-9043-fbee7553fb5f",
   "metadata": {},
   "outputs": [],
   "source": []
  }
 ],
 "metadata": {
  "kernelspec": {
   "display_name": "",
   "name": ""
  },
  "language_info": {
   "name": ""
  }
 },
 "nbformat": 4,
 "nbformat_minor": 5
}
